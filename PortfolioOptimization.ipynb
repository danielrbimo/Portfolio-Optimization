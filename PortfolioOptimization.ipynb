{
  "nbformat": 4,
  "nbformat_minor": 0,
  "metadata": {
    "colab": {
      "name": "YoutubePortfolio.ipynb",
      "provenance": [],
      "authorship_tag": "ABX9TyPJl7L5PNNe+Nr8VaaWlEJO",
      "include_colab_link": true
    },
    "kernelspec": {
      "name": "python3",
      "display_name": "Python 3"
    }
  },
  "cells": [
    {
      "cell_type": "markdown",
      "metadata": {
        "id": "view-in-github",
        "colab_type": "text"
      },
      "source": [
        "<a href=\"https://colab.research.google.com/github/danielrbimo/Portfolio-Optimization/blob/main/PortfolioOptimization.ipynb\" target=\"_parent\"><img src=\"https://colab.research.google.com/assets/colab-badge.svg\" alt=\"Open In Colab\"/></a>"
      ]
    },
    {
      "cell_type": "code",
      "metadata": {
        "id": "kTlXBLWFhhU-"
      },
      "source": [
        "#Python Libraries\r\n",
        "import numpy as np\r\n",
        "import pandas as pd\r\n",
        "\r\n",
        "import datetime as dt\r\n",
        "import pandas_datareader.data as web\r\n",
        "\r\n",
        "import matplotlib.pyplot as plt\r\n",
        "%matplotlib inline\r\n",
        "%config InlineBackend.figure_format = 'retina'"
      ],
      "execution_count": null,
      "outputs": []
    },
    {
      "cell_type": "code",
      "metadata": {
        "id": "1vkkL350hizw"
      },
      "source": [
        "#From YOUTUBE\r\n",
        "#Load the data\r\n",
        "start = dt.datetime(2015, 1, 1)\r\n",
        "end = dt.datetime(2021, 1, 20)\r\n",
        "\r\n",
        "#set up to percente change\r\n",
        "ticker_list = ['SPY', 'SNE', 'SFTBY', 'NFLX', 'AAPL', 'AMZN']\r\n",
        "close_price = pd.DataFrame()\r\n",
        "for ticker in ticker_list:\r\n",
        "    close_price['Price_'+ticker] = web.DataReader(ticker,'yahoo',start,end)\\\r\n",
        "              ['Adj Close']"
      ],
      "execution_count": null,
      "outputs": []
    },
    {
      "cell_type": "code",
      "metadata": {
        "colab": {
          "base_uri": "https://localhost:8080/",
          "height": 235
        },
        "id": "DvB9doTmhmTf",
        "outputId": "46f795b5-ec4c-4223-aeaa-461eb94b6164"
      },
      "source": [
        "close_price.tail()"
      ],
      "execution_count": null,
      "outputs": [
        {
          "output_type": "execute_result",
          "data": {
            "text/html": [
              "<div>\n",
              "<style scoped>\n",
              "    .dataframe tbody tr th:only-of-type {\n",
              "        vertical-align: middle;\n",
              "    }\n",
              "\n",
              "    .dataframe tbody tr th {\n",
              "        vertical-align: top;\n",
              "    }\n",
              "\n",
              "    .dataframe thead th {\n",
              "        text-align: right;\n",
              "    }\n",
              "</style>\n",
              "<table border=\"1\" class=\"dataframe\">\n",
              "  <thead>\n",
              "    <tr style=\"text-align: right;\">\n",
              "      <th></th>\n",
              "      <th>Price_SPY</th>\n",
              "      <th>Price_SNE</th>\n",
              "      <th>Price_SFTBY</th>\n",
              "      <th>Price_NFLX</th>\n",
              "      <th>Price_AAPL</th>\n",
              "      <th>Price_AMZN</th>\n",
              "    </tr>\n",
              "    <tr>\n",
              "      <th>Date</th>\n",
              "      <th></th>\n",
              "      <th></th>\n",
              "      <th></th>\n",
              "      <th></th>\n",
              "      <th></th>\n",
              "      <th></th>\n",
              "    </tr>\n",
              "  </thead>\n",
              "  <tbody>\n",
              "    <tr>\n",
              "      <th>2021-01-13</th>\n",
              "      <td>379.790009</td>\n",
              "      <td>103.889999</td>\n",
              "      <td>40.349998</td>\n",
              "      <td>507.790009</td>\n",
              "      <td>130.889999</td>\n",
              "      <td>3165.889893</td>\n",
              "    </tr>\n",
              "    <tr>\n",
              "      <th>2021-01-14</th>\n",
              "      <td>378.459991</td>\n",
              "      <td>103.419998</td>\n",
              "      <td>41.310001</td>\n",
              "      <td>500.859985</td>\n",
              "      <td>128.910004</td>\n",
              "      <td>3127.469971</td>\n",
              "    </tr>\n",
              "    <tr>\n",
              "      <th>2021-01-15</th>\n",
              "      <td>375.700012</td>\n",
              "      <td>102.050003</td>\n",
              "      <td>40.349998</td>\n",
              "      <td>497.980011</td>\n",
              "      <td>127.139999</td>\n",
              "      <td>3104.250000</td>\n",
              "    </tr>\n",
              "    <tr>\n",
              "      <th>2021-01-19</th>\n",
              "      <td>378.649994</td>\n",
              "      <td>102.230003</td>\n",
              "      <td>42.290001</td>\n",
              "      <td>501.769989</td>\n",
              "      <td>127.830002</td>\n",
              "      <td>3120.760010</td>\n",
              "    </tr>\n",
              "    <tr>\n",
              "      <th>2021-01-20</th>\n",
              "      <td>383.890015</td>\n",
              "      <td>102.889999</td>\n",
              "      <td>42.150002</td>\n",
              "      <td>586.340027</td>\n",
              "      <td>132.029999</td>\n",
              "      <td>3263.379883</td>\n",
              "    </tr>\n",
              "  </tbody>\n",
              "</table>\n",
              "</div>"
            ],
            "text/plain": [
              "             Price_SPY   Price_SNE  ...  Price_AAPL   Price_AMZN\n",
              "Date                                ...                         \n",
              "2021-01-13  379.790009  103.889999  ...  130.889999  3165.889893\n",
              "2021-01-14  378.459991  103.419998  ...  128.910004  3127.469971\n",
              "2021-01-15  375.700012  102.050003  ...  127.139999  3104.250000\n",
              "2021-01-19  378.649994  102.230003  ...  127.830002  3120.760010\n",
              "2021-01-20  383.890015  102.889999  ...  132.029999  3263.379883\n",
              "\n",
              "[5 rows x 6 columns]"
            ]
          },
          "metadata": {
            "tags": []
          },
          "execution_count": 17
        }
      ]
    },
    {
      "cell_type": "code",
      "metadata": {
        "colab": {
          "base_uri": "https://localhost:8080/"
        },
        "id": "frUxbmwXhn80",
        "outputId": "a8807e87-d9c0-4a70-d009-8cf976ca1b73"
      },
      "source": [
        "pip install PyPortfolioOpt"
      ],
      "execution_count": null,
      "outputs": [
        {
          "output_type": "stream",
          "text": [
            "Requirement already satisfied: PyPortfolioOpt in /usr/local/lib/python3.6/dist-packages (1.2.7)\n",
            "Requirement already satisfied: cvxopt<2.0,>=1.2 in /usr/local/lib/python3.6/dist-packages (from PyPortfolioOpt) (1.2.5)\n",
            "Requirement already satisfied: numpy<2.0,>=1.12 in /usr/local/lib/python3.6/dist-packages (from PyPortfolioOpt) (1.19.5)\n",
            "Requirement already satisfied: scipy<2.0,>=1.3 in /usr/local/lib/python3.6/dist-packages (from PyPortfolioOpt) (1.4.1)\n",
            "Requirement already satisfied: cvxpy<2.0,>=1.0 in /usr/local/lib/python3.6/dist-packages (from PyPortfolioOpt) (1.0.31)\n",
            "Requirement already satisfied: pandas>=0.19 in /usr/local/lib/python3.6/dist-packages (from PyPortfolioOpt) (1.1.5)\n",
            "Requirement already satisfied: osqp>=0.4.1 in /usr/local/lib/python3.6/dist-packages (from cvxpy<2.0,>=1.0->PyPortfolioOpt) (0.6.2)\n",
            "Requirement already satisfied: ecos>=2 in /usr/local/lib/python3.6/dist-packages (from cvxpy<2.0,>=1.0->PyPortfolioOpt) (2.0.7.post1)\n",
            "Requirement already satisfied: multiprocess in /usr/local/lib/python3.6/dist-packages (from cvxpy<2.0,>=1.0->PyPortfolioOpt) (0.70.11.1)\n",
            "Requirement already satisfied: scs>=1.1.3 in /usr/local/lib/python3.6/dist-packages (from cvxpy<2.0,>=1.0->PyPortfolioOpt) (2.1.2)\n",
            "Requirement already satisfied: pytz>=2017.2 in /usr/local/lib/python3.6/dist-packages (from pandas>=0.19->PyPortfolioOpt) (2018.9)\n",
            "Requirement already satisfied: python-dateutil>=2.7.3 in /usr/local/lib/python3.6/dist-packages (from pandas>=0.19->PyPortfolioOpt) (2.8.1)\n",
            "Requirement already satisfied: qdldl in /usr/local/lib/python3.6/dist-packages (from osqp>=0.4.1->cvxpy<2.0,>=1.0->PyPortfolioOpt) (0.1.5.post0)\n",
            "Requirement already satisfied: dill>=0.3.3 in /usr/local/lib/python3.6/dist-packages (from multiprocess->cvxpy<2.0,>=1.0->PyPortfolioOpt) (0.3.3)\n",
            "Requirement already satisfied: six>=1.5 in /usr/local/lib/python3.6/dist-packages (from python-dateutil>=2.7.3->pandas>=0.19->PyPortfolioOpt) (1.15.0)\n"
          ],
          "name": "stdout"
        }
      ]
    },
    {
      "cell_type": "code",
      "metadata": {
        "id": "T6JOKKQNhpxN"
      },
      "source": [
        "#Optimize portfolio imports\r\n",
        "from pypfopt.efficient_frontier import EfficientFrontier\r\n",
        "from pypfopt import risk_models\r\n",
        "from pypfopt import expected_returns"
      ],
      "execution_count": null,
      "outputs": []
    },
    {
      "cell_type": "code",
      "metadata": {
        "id": "19HoZnDYh01M"
      },
      "source": [
        "#Calculate the expected annualized returns and the annualized sample covariance matrix of the daily asset returns\r\n",
        "mu = expected_returns.mean_historical_return(close_price)\r\n",
        "S = risk_models.sample_cov(close_price)\r\n"
      ],
      "execution_count": null,
      "outputs": []
    },
    {
      "cell_type": "code",
      "metadata": {
        "colab": {
          "base_uri": "https://localhost:8080/"
        },
        "id": "-pVuZQzkiIvK",
        "outputId": "13034459-c921-4bd0-a2af-072209eff568"
      },
      "source": [
        "ef = EfficientFrontier(mu, S)\r\n",
        "weights = ef.max_sharpe()\r\n",
        "print(weights)\r\n",
        "ef.portfolio_performance(verbose = True)\r\n"
      ],
      "execution_count": null,
      "outputs": [
        {
          "output_type": "stream",
          "text": [
            "OrderedDict([('Price_SPY', 0.0), ('Price_SNE', 0.210479939837353), ('Price_SFTBY', 0.0), ('Price_NFLX', 0.1661109429787117), ('Price_AAPL', 0.0304296893997611), ('Price_AMZN', 0.5929794277841741)])\n",
            "Expected annual return: 44.1%\n",
            "Annual volatility: 26.7%\n",
            "Sharpe Ratio: 1.58\n"
          ],
          "name": "stdout"
        },
        {
          "output_type": "execute_result",
          "data": {
            "text/plain": [
              "(0.4410216550164425, 0.2669705311883946, 1.577034188538726)"
            ]
          },
          "metadata": {
            "tags": []
          },
          "execution_count": 21
        }
      ]
    },
    {
      "cell_type": "code",
      "metadata": {
        "colab": {
          "base_uri": "https://localhost:8080/"
        },
        "id": "EjGuVh6GibBc",
        "outputId": "69c4e4d9-a817-4461-cf65-8d56f78643b9"
      },
      "source": [
        "pip install pulp"
      ],
      "execution_count": null,
      "outputs": [
        {
          "output_type": "stream",
          "text": [
            "Requirement already satisfied: pulp in /usr/local/lib/python3.6/dist-packages (2.4)\n",
            "Requirement already satisfied: amply>=0.1.2 in /usr/local/lib/python3.6/dist-packages (from pulp) (0.1.4)\n",
            "Requirement already satisfied: pyparsing in /usr/local/lib/python3.6/dist-packages (from amply>=0.1.2->pulp) (2.4.7)\n",
            "Requirement already satisfied: docutils>=0.3 in /usr/local/lib/python3.6/dist-packages (from amply>=0.1.2->pulp) (0.16)\n"
          ],
          "name": "stdout"
        }
      ]
    },
    {
      "cell_type": "code",
      "metadata": {
        "colab": {
          "base_uri": "https://localhost:8080/"
        },
        "id": "PGueKX21i4bP",
        "outputId": "a1d4cb09-b928-4824-eaac-567adb07dbe5"
      },
      "source": [
        "#Get the discrete allocation of each share per stock\r\n",
        "from pypfopt.discrete_allocation import DiscreteAllocation, get_latest_prices\r\n",
        "\r\n",
        "portfolio_val = 1000\r\n",
        "latest_prices = get_latest_prices(close_price)\r\n",
        "da = DiscreteAllocation(weights, latest_prices, total_portfolio_value = portfolio_val)\r\n",
        "allocation, leftover = da.lp_portfolio()\r\n",
        "print('Discrete allocation:', allocation)\r\n",
        "print('Funds Remaining: $', leftover)\r\n",
        "print(latest_prices)"
      ],
      "execution_count": null,
      "outputs": [
        {
          "output_type": "stream",
          "text": [
            "Discrete allocation: {'Price_SNE': 2, 'Price_NFLX': 1, 'Price_AAPL': 1}\n",
            "Funds Remaining: $ 75.8499755859375\n",
            "Price_SPY       383.890015\n",
            "Price_SNE       102.889999\n",
            "Price_SFTBY      42.150002\n",
            "Price_NFLX      586.340027\n",
            "Price_AAPL      132.029999\n",
            "Price_AMZN     3263.379883\n",
            "Name: 2021-01-20 00:00:00, dtype: float64\n"
          ],
          "name": "stdout"
        }
      ]
    },
    {
      "cell_type": "code",
      "metadata": {
        "id": "I7lN2NI0jz0-"
      },
      "source": [
        ""
      ],
      "execution_count": null,
      "outputs": []
    }
  ]
}